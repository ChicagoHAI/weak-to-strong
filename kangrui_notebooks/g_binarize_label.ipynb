{
 "cells": [
  {
   "cell_type": "code",
   "execution_count": 1,
   "metadata": {},
   "outputs": [],
   "source": [
    "RESULTS_PATH = \"../results/boolq\"\n",
    "SAVE_PATH= \"../results/boolq_binary\"\n"
   ]
  },
  {
   "cell_type": "code",
   "execution_count": 2,
   "metadata": {},
   "outputs": [],
   "source": [
    "import numpy as np\n",
    "import os\n",
    "import glob\n",
    "from datasets import load_from_disk"
   ]
  },
  {
   "cell_type": "code",
   "execution_count": null,
   "metadata": {},
   "outputs": [],
   "source": [
    "def convert_to_binary(example):\n",
    "    binary_output = np.zeros_like(example['soft_label'])\n",
    "    binary_output[np.argmax(example['soft_label'])] = 1\n",
    "    example['soft_label'] = binary_output\n",
    "    return example"
   ]
  },
  {
   "cell_type": "code",
   "execution_count": 18,
   "metadata": {},
   "outputs": [
    {
     "name": "stdout",
     "output_type": "stream",
     "text": [
      "../results/boolq/bs=32-dn=boolq-e=2-ee=1000000-lp=0-l=xent-l=5e-05-ls=cosi_anne-mc=1024-ms=gpt2-medium-nd=20000-ntd=10000-o=adam-s=0-twd=0/weak_labels\n"
     ]
    }
   ],
   "source": [
    "model_name=\"gpt2-medium\"\n",
    "for result_filename in glob.glob(os.path.join(RESULTS_PATH,\"**/dataset_info.json\"), recursive=True):\n",
    "    dataset_name=\"/\".join(result_filename.split(\"/\")[:-1])\n",
    "    if model_name not in dataset_name:\n",
    "        continue\n",
    "    datas=load_from_disk(dataset_name)\n",
    "    print(dataset_name)\n",
    "    break\n",
    "    # updated_datas=datas.map(convert_to_binary)\n",
    "    # updated_datas.save_to_disk(dataset_name.replace(RESULTS_PATH,SAVE_PATH))\n"
   ]
  },
  {
   "cell_type": "code",
   "execution_count": null,
   "metadata": {},
   "outputs": [],
   "source": [
    "import shutil\n",
    "for result_filename in glob.glob(os.path.join(RESULTS_PATH,\"**/dataset_info.json\"), recursive=True):\n",
    "    # print(result_filename)\n",
    "    # move all contents of the folder to the new folder\n",
    "    folder_name=\"/\".join(result_filename.split(\"/\")[:-2])\n",
    "    files = glob.glob(os.path.join(folder_name, '*'))\n",
    "    for file in files:\n",
    "        if file.endswith(\"safetensors\"):\n",
    "            continue\n",
    "        if file.endswith(\"weak_labels\"):\n",
    "            continue\n",
    "        shutil.copy(file, file.replace(RESULTS_PATH,SAVE_PATH))\n",
    "    "
   ]
  }
 ],
 "metadata": {
  "kernelspec": {
   "display_name": "Python 3",
   "language": "python",
   "name": "python3"
  },
  "language_info": {
   "codemirror_mode": {
    "name": "ipython",
    "version": 3
   },
   "file_extension": ".py",
   "mimetype": "text/x-python",
   "name": "python",
   "nbconvert_exporter": "python",
   "pygments_lexer": "ipython3",
   "version": "3.11.7"
  }
 },
 "nbformat": 4,
 "nbformat_minor": 2
}
